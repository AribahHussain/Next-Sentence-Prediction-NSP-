{
  "cells": [
    {
      "cell_type": "code",
      "execution_count": null,
      "metadata": {
        "colab": {
          "base_uri": "https://localhost:8080/"
        },
        "id": "oOlBwc3Q6dTL",
        "outputId": "4a9afe87-4e34-4c54-ec0b-b4626c29e74c"
      },
      "outputs": [
        {
          "output_type": "stream",
          "name": "stderr",
          "text": [
            "\rEpoch 1:   0%|          | 0/40 [00:00<?, ?it/s]Be aware, overflowing tokens are not returned for the setting you have chosen, i.e. sequence pairs with the 'longest_first' truncation strategy. So the returned list will always be empty even if some tokens have been removed.\n",
            "Be aware, overflowing tokens are not returned for the setting you have chosen, i.e. sequence pairs with the 'longest_first' truncation strategy. So the returned list will always be empty even if some tokens have been removed.\n",
            "Epoch 1:  12%|█▎        | 5/40 [00:00<00:04,  8.33it/s]Be aware, overflowing tokens are not returned for the setting you have chosen, i.e. sequence pairs with the 'longest_first' truncation strategy. So the returned list will always be empty even if some tokens have been removed.\n",
            "Epoch 1:  22%|██▎       | 9/40 [00:01<00:03,  8.67it/s]Be aware, overflowing tokens are not returned for the setting you have chosen, i.e. sequence pairs with the 'longest_first' truncation strategy. So the returned list will always be empty even if some tokens have been removed.\n",
            "Epoch 1:  25%|██▌       | 10/40 [00:01<00:03,  8.75it/s]Be aware, overflowing tokens are not returned for the setting you have chosen, i.e. sequence pairs with the 'longest_first' truncation strategy. So the returned list will always be empty even if some tokens have been removed.\n",
            "Epoch 1:  30%|███       | 12/40 [00:01<00:03,  8.79it/s]Be aware, overflowing tokens are not returned for the setting you have chosen, i.e. sequence pairs with the 'longest_first' truncation strategy. So the returned list will always be empty even if some tokens have been removed.\n",
            "Epoch 1:  52%|█████▎    | 21/40 [00:02<00:02,  8.69it/s]Be aware, overflowing tokens are not returned for the setting you have chosen, i.e. sequence pairs with the 'longest_first' truncation strategy. So the returned list will always be empty even if some tokens have been removed.\n",
            "Epoch 1:  70%|███████   | 28/40 [00:03<00:01,  8.54it/s]Be aware, overflowing tokens are not returned for the setting you have chosen, i.e. sequence pairs with the 'longest_first' truncation strategy. So the returned list will always be empty even if some tokens have been removed.\n",
            "Be aware, overflowing tokens are not returned for the setting you have chosen, i.e. sequence pairs with the 'longest_first' truncation strategy. So the returned list will always be empty even if some tokens have been removed.\n",
            "Epoch 1: 100%|██████████| 40/40 [00:04<00:00,  8.58it/s]\n"
          ]
        },
        {
          "output_type": "stream",
          "name": "stdout",
          "text": [
            "Epoch 1 Loss: 1.434625089223846\n"
          ]
        },
        {
          "output_type": "execute_result",
          "data": {
            "text/plain": [
              "('./nsp_model_fast/tokenizer_config.json',\n",
              " './nsp_model_fast/special_tokens_map.json',\n",
              " './nsp_model_fast/vocab.txt',\n",
              " './nsp_model_fast/added_tokens.json')"
            ]
          },
          "metadata": {},
          "execution_count": 7
        }
      ],
      "source": [
        "import pandas as pd\n",
        "import torch\n",
        "import random\n",
        "from transformers import BertTokenizer, BertForNextSentencePrediction\n",
        "from torch.optim import AdamW\n",
        "from torch.utils.data import DataLoader, Dataset\n",
        "from sklearn.model_selection import train_test_split\n",
        "from tqdm import tqdm\n",
        "\n",
        "df = pd.read_csv('//content/train.csv')\n",
        "df = df.sample(n=200, random_state=42)  # Limit for faster training\n",
        "sentences = df['question_text'].dropna().tolist()\n",
        "\n",
        "sentence1 = []\n",
        "sentence2 = []\n",
        "labels = []\n",
        "\n",
        "for i in range(len(sentences) - 1):\n",
        "    sentence1.append(sentences[i])\n",
        "    sentence2.append(sentences[i + 1])\n",
        "    labels.append(1)\n",
        "\n",
        "for _ in range(len(sentences) - 1):\n",
        "    s1 = random.choice(sentences)\n",
        "    s2 = random.choice(sentences)\n",
        "    sentence1.append(s1)\n",
        "    sentence2.append(s2)\n",
        "    labels.append(0)\n",
        "\n",
        "combined_df = pd.DataFrame({\n",
        "    'sentence1': sentence1,\n",
        "    'sentence2': sentence2,\n",
        "    'label': labels\n",
        "})\n",
        "\n",
        "class NSPDataset(Dataset):\n",
        "    def __init__(self, sentence1, sentence2, labels, tokenizer, max_len=64):\n",
        "        self.sentence1 = sentence1\n",
        "        self.sentence2 = sentence2\n",
        "        self.labels = labels\n",
        "        self.tokenizer = tokenizer\n",
        "        self.max_len = max_len\n",
        "\n",
        "    def __len__(self):\n",
        "        return len(self.sentence1)\n",
        "\n",
        "    def __getitem__(self, idx):\n",
        "        encoded = self.tokenizer(\n",
        "            self.sentence1[idx],\n",
        "            self.sentence2[idx],\n",
        "            truncation=True,\n",
        "            padding='max_length',\n",
        "            max_length=self.max_len,\n",
        "            return_tensors='pt'\n",
        "        )\n",
        "        input_ids = encoded['input_ids'].squeeze()\n",
        "        attention_mask = encoded['attention_mask'].squeeze()\n",
        "        token_type_ids = encoded['token_type_ids'].squeeze()\n",
        "        label = torch.tensor(self.labels[idx], dtype=torch.long)\n",
        "        return {\n",
        "            'input_ids': input_ids,\n",
        "            'attention_mask': attention_mask,\n",
        "            'token_type_ids': token_type_ids,\n",
        "            'labels': label\n",
        "        }\n",
        "\n",
        "tokenizer = BertTokenizer.from_pretrained('bert-base-uncased')\n",
        "model = BertForNextSentencePrediction.from_pretrained('bert-base-uncased')\n",
        "\n",
        "train_s1, val_s1, train_s2, val_s2, train_labels, val_labels = train_test_split(\n",
        "    combined_df['sentence1'], combined_df['sentence2'], combined_df['label'],\n",
        "    test_size=0.2, random_state=42\n",
        ")\n",
        "\n",
        "train_dataset = NSPDataset(train_s1.tolist(), train_s2.tolist(), train_labels.tolist(), tokenizer)\n",
        "val_dataset = NSPDataset(val_s1.tolist(), val_s2.tolist(), val_labels.tolist(), tokenizer)\n",
        "\n",
        "train_loader = DataLoader(train_dataset, batch_size=8, shuffle=True)\n",
        "val_loader = DataLoader(val_dataset, batch_size=8)\n",
        "\n",
        "device = torch.device('cuda' if torch.cuda.is_available() else 'cpu')\n",
        "model.to(device)\n",
        "optimizer = AdamW(model.parameters(), lr=2e-5)\n",
        "\n",
        "for epoch in range(1):\n",
        "    model.train()\n",
        "    total_loss = 0\n",
        "    for batch in tqdm(train_loader, desc=f\"Epoch {epoch+1}\"):\n",
        "        input_ids = batch['input_ids'].to(device)\n",
        "        attention_mask = batch['attention_mask'].to(device)\n",
        "        token_type_ids = batch['token_type_ids'].to(device)\n",
        "        labels = batch['labels'].to(device)\n",
        "\n",
        "        outputs = model(\n",
        "            input_ids=input_ids,\n",
        "            attention_mask=attention_mask,\n",
        "            token_type_ids=token_type_ids,\n",
        "            labels=labels\n",
        "        )\n",
        "        loss = outputs.loss\n",
        "        loss.backward()\n",
        "        optimizer.step()\n",
        "        optimizer.zero_grad()\n",
        "        total_loss += loss.item()\n",
        "    print(f\"Epoch {epoch+1} Loss: {total_loss/len(train_loader)}\")\n",
        "\n",
        "model.save_pretrained('./nsp_model_fast')\n",
        "tokenizer.save_pretrained('./nsp_model_fast')\n"
      ]
    },
    {
      "cell_type": "code",
      "execution_count": null,
      "metadata": {
        "colab": {
          "base_uri": "https://localhost:8080/",
          "height": 594
        },
        "id": "hOjVeu946viI",
        "outputId": "14a9cca6-a24c-4bc9-edbe-773cb31dffdb"
      },
      "outputs": [
        {
          "output_type": "stream",
          "name": "stderr",
          "text": [
            "Be aware, overflowing tokens are not returned for the setting you have chosen, i.e. sequence pairs with the 'longest_first' truncation strategy. So the returned list will always be empty even if some tokens have been removed.\n",
            "Be aware, overflowing tokens are not returned for the setting you have chosen, i.e. sequence pairs with the 'longest_first' truncation strategy. So the returned list will always be empty even if some tokens have been removed.\n",
            "Be aware, overflowing tokens are not returned for the setting you have chosen, i.e. sequence pairs with the 'longest_first' truncation strategy. So the returned list will always be empty even if some tokens have been removed.\n",
            "Be aware, overflowing tokens are not returned for the setting you have chosen, i.e. sequence pairs with the 'longest_first' truncation strategy. So the returned list will always be empty even if some tokens have been removed.\n",
            "Be aware, overflowing tokens are not returned for the setting you have chosen, i.e. sequence pairs with the 'longest_first' truncation strategy. So the returned list will always be empty even if some tokens have been removed.\n",
            "Be aware, overflowing tokens are not returned for the setting you have chosen, i.e. sequence pairs with the 'longest_first' truncation strategy. So the returned list will always be empty even if some tokens have been removed.\n"
          ]
        },
        {
          "output_type": "stream",
          "name": "stdout",
          "text": [
            "Validation Accuracy: 48.75%\n"
          ]
        },
        {
          "output_type": "display_data",
          "data": {
            "text/plain": [
              "<Figure size 640x480 with 1 Axes>"
            ],
            "image/png": "[encoded data removed]"
          },
          "metadata": {}
        }
      ],
      "source": [
        "import matplotlib.pyplot as plt\n",
        "\n",
        "model.eval()\n",
        "correct = 0\n",
        "total = 0\n",
        "\n",
        "with torch.no_grad():\n",
        "    for batch in val_loader:\n",
        "        input_ids = batch['input_ids'].to(device)\n",
        "        attention_mask = batch['attention_mask'].to(device)\n",
        "        token_type_ids = batch['token_type_ids'].to(device)\n",
        "        labels = batch['labels'].to(device)\n",
        "\n",
        "        outputs = model(\n",
        "            input_ids=input_ids,\n",
        "            attention_mask=attention_mask,\n",
        "            token_type_ids=token_type_ids\n",
        "        )\n",
        "\n",
        "        predictions = torch.argmax(outputs.logits, dim=1)\n",
        "        correct += (predictions == labels).sum().item()\n",
        "        total += labels.size(0)\n",
        "\n",
        "accuracy = correct / total * 100\n",
        "print(f\"Validation Accuracy: {accuracy:.2f}%\")\n",
        "\n",
        "correct_count = correct\n",
        "incorrect_count = total - correct\n",
        "\n",
        "plt.bar(['Correct', 'Incorrect'], [correct_count, incorrect_count], color=['green', 'red'])\n",
        "plt.title('Next Sentence Prediction Results')\n",
        "plt.ylabel('Number of Samples')\n",
        "plt.show()\n"
      ]
    },
    {
      "cell_type": "code",
      "execution_count": null,
      "metadata": {
        "colab": {
          "base_uri": "https://localhost:8080/"
        },
        "id": "stx1mKiB6-g5",
        "outputId": "d8ef2748-12ef-4c2c-ced0-33967af1148d"
      },
      "outputs": [
        {
          "output_type": "stream",
          "name": "stderr",
          "text": [
            "Be aware, overflowing tokens are not returned for the setting you have chosen, i.e. sequence pairs with the 'longest_first' truncation strategy. So the returned list will always be empty even if some tokens have been removed.\n",
            "Be aware, overflowing tokens are not returned for the setting you have chosen, i.e. sequence pairs with the 'longest_first' truncation strategy. So the returned list will always be empty even if some tokens have been removed.\n"
          ]
        },
        {
          "output_type": "stream",
          "name": "stdout",
          "text": [
            "\n",
            "My mother has always said that nobody will ever love me (romantically) because of my attitude, whenever we argue. It really hurts me. Do you think that what she says will really be true?\n",
            "\n",
            "1. (Score: 0.4871) Has there ever been a single terrible performance that ruined a television show for you?\n",
            "2. (Score: 0.4432) What is the quickest way to boost your Snapchat points?\n",
            "3. (Score: 0.4359) What book should I read to learn how to lead? (Something like “art of war- Sun Tzu”, in terms of length and contenents)\n",
            "4. (Score: 0.3918) In \"couple body language\", what does it mean if a man hugs you around the lower waist and/or butt with his hand near or on it?\n",
            "5. (Score: 0.1750) What would be the forecast of Asia Pacific Beer market and which are leading players?\n"
          ]
        }
      ],
      "source": [
        "import pandas as pd\n",
        "import torch\n",
        "from transformers import BertTokenizer, BertForNextSentencePrediction\n",
        "import random\n",
        "\n",
        "model_path = './nsp_model_fast'\n",
        "tokenizer = BertTokenizer.from_pretrained(model_path)\n",
        "model = BertForNextSentencePrediction.from_pretrained(model_path)\n",
        "device = torch.device('cuda' if torch.cuda.is_available() else 'cpu')\n",
        "model.to(device)\n",
        "model.eval()\n",
        "\n",
        "df = pd.read_csv('/content/train.csv')\n",
        "sentences = df['question_text'].dropna().tolist()\n",
        "source_sentence = random.choice(sentences)\n",
        "print(f\"\\n{source_sentence}\\n\")\n",
        "\n",
        "candidates = random.sample(sentences, 5)\n",
        "scores = []\n",
        "\n",
        "for candidate in candidates:\n",
        "    encoding = tokenizer(source_sentence, candidate, return_tensors='pt', truncation=True, padding='max_length', max_length=64)\n",
        "    for k in encoding:\n",
        "        encoding[k] = encoding[k].to(device)\n",
        "    outputs = model(**encoding)\n",
        "    logits = outputs.logits\n",
        "    prob = torch.softmax(logits, dim=1)\n",
        "    is_next_score = prob[0][0].item()\n",
        "    scores.append((candidate, is_next_score))\n",
        "\n",
        "sorted_scores = sorted(scores, key=lambda x: x[1], reverse=True)\n",
        "\n",
        "for i, (text, score) in enumerate(sorted_scores, 1):\n",
        "    print(f\"{i}. (Score: {score:.4f}) {text}\")\n"
      ]
    },
    {
      "cell_type": "code",
      "execution_count": null,
      "metadata": {
        "colab": {
          "base_uri": "https://localhost:8080/",
          "height": 624
        },
        "id": "_PjCdKOA7Kft",
        "outputId": "c62bbfad-5faa-4d1f-9f0c-a9c887fd88c8"
      },
      "outputs": [
        {
          "output_type": "stream",
          "name": "stdout",
          "text": [
            "\n",
            "SOURCE:\n",
            "What are 5 tips to have a successful telephone interview?\n",
            "\n",
            "1. (Score: 0.4221) How can I connect with my old college mates?\n",
            "2. (Score: 0.4160) What are examples of big data projects that Silicon Valley works on?\n",
            "3. (Score: 0.4107) How does coffee make you poop?\n",
            "4. (Score: 0.3657) What is the production process of the Jameson Irish whiskey?\n",
            "5. (Score: 0.3537) Do you believe there is other life forms in the universe and why?\n"
          ]
        },
        {
          "output_type": "display_data",
          "data": {
            "text/plain": [
              "<Figure size 1000x500 with 1 Axes>"
            ],
            "image/png": "[encoded data removed]"
          },
          "metadata": {}
        }
      ],
      "source": [
        "import pandas as pd\n",
        "import torch\n",
        "from transformers import BertTokenizer, BertForNextSentencePrediction\n",
        "import random\n",
        "import matplotlib.pyplot as plt\n",
        "\n",
        "model_path = './nsp_model_fast'\n",
        "tokenizer = BertTokenizer.from_pretrained(model_path)\n",
        "model = BertForNextSentencePrediction.from_pretrained(model_path)\n",
        "device = torch.device('cuda' if torch.cuda.is_available() else 'cpu')\n",
        "model.to(device)\n",
        "model.eval()\n",
        "\n",
        "df = pd.read_csv('/content/train.csv')\n",
        "sentences = df['question_text'].dropna().tolist()\n",
        "source_sentence = random.choice(sentences)\n",
        "print(f\"\\nSOURCE:\\n{source_sentence}\\n\")\n",
        "\n",
        "candidates = random.sample(sentences, 5)\n",
        "scores = []\n",
        "\n",
        "for candidate in candidates:\n",
        "    encoding = tokenizer(source_sentence, candidate, return_tensors='pt', truncation=True, padding='max_length', max_length=64)\n",
        "    for k in encoding:\n",
        "        encoding[k] = encoding[k].to(device)\n",
        "    outputs = model(**encoding)\n",
        "    prob = torch.softmax(outputs.logits, dim=1)\n",
        "    is_next_score = prob[0][0].item()\n",
        "    scores.append((candidate, is_next_score))\n",
        "\n",
        "sorted_scores = sorted(scores, key=lambda x: x[1], reverse=True)\n",
        "\n",
        "for i, (text, score) in enumerate(sorted_scores, 1):\n",
        "    print(f\"{i}. (Score: {score:.4f}) {text}\")\n",
        "\n",
        "texts = [f\"Sent {i+1}\" for i in range(5)]\n",
        "values = [score for _, score in sorted_scores]\n",
        "\n",
        "plt.figure(figsize=(10, 5))\n",
        "plt.bar(texts, values, color='skyblue')\n",
        "plt.ylim(0, 1)\n",
        "plt.ylabel(\"NSP Score (Probability)\")\n",
        "plt.title(\"Next Sentence Prediction Scores\")\n",
        "plt.show()\n"
      ]
    }
  ],
  "metadata": {
    "accelerator": "GPU",
    "colab": {
      "gpuType": "T4",
      "provenance": []
    },
    "kernelspec": {
      "display_name": "Python 3",
      "name": "python3"
    },
    "language_info": {
      "name": "python"
    }
  },
  "nbformat": 4,
  "nbformat_minor": 0
}